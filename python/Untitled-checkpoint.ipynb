{
 "cells": [
  {
   "cell_type": "code",
   "execution_count": null,
   "id": "21c9b170",
   "metadata": {},
   "outputs": [],
   "source": [
    "#print number from 1 to 100\n",
    "nums=int(input(\"enter ending point\"))\n",
    "idx=1\n",
    "while idx < nums:\n",
    "    print(idx)\n",
    "    idx += 1"
   ]
  },
  {
   "cell_type": "code",
   "execution_count": null,
   "id": "801929e3",
   "metadata": {},
   "outputs": [],
   "source": [
    "#print num from 100 to 1\n",
    "i=100\n",
    "while i >= 1:\n",
    "    print(i)\n",
    "    i -= 1"
   ]
  },
  {
   "cell_type": "code",
   "execution_count": null,
   "id": "7860fe4d",
   "metadata": {},
   "outputs": [],
   "source": [
    "#factorial num using while loop\n",
    "num=int(input(\"enter number for factorial \"))\n",
    "i=1\n",
    "fact=1\n",
    "while i <= num:\n",
    "    fact=fact*i\n",
    "    i+=1\n",
    "print(f\"factorial is: {fact}\")"
   ]
  },
  {
   "cell_type": "code",
   "execution_count": null,
   "id": "718fea3d",
   "metadata": {},
   "outputs": [],
   "source": [
    "# largest num  \n",
    "#num is palindrom or not"
   ]
  },
  {
   "cell_type": "code",
   "execution_count": null,
   "id": "0e748221",
   "metadata": {},
   "outputs": [],
   "source": [
    "# wap to table \n",
    "table=int(input(\"which table \"))\n",
    "i = 1\n",
    "while i <= 10:\n",
    "    print (table*i)\n",
    "    i+=1"
   ]
  },
  {
   "cell_type": "code",
   "execution_count": null,
   "id": "d083b551",
   "metadata": {},
   "outputs": [],
   "source": [
    "num = 1\n",
    "\n",
    "while num <= 10:\n",
    "    i = 1\n",
    "    print(f\"Table of {num}:\")\n",
    "    while i <= 10:\n",
    "        print(f\"{num} x {i} = {num * i}\")\n",
    "        i += 1\n",
    "    print()  \n",
    "    num += 1"
   ]
  },
  {
   "cell_type": "code",
   "execution_count": null,
   "id": "5c48ce9f",
   "metadata": {},
   "outputs": [],
   "source": [
    "# largest num  three number\n",
    "i=1\n",
    "numbers=[]\n",
    "while i<=3:\n",
    "    num=int(input(f\"enter your {i} num\"))\n",
    "    numbers.append(num)\n",
    "    i += 1\n",
    "max = numbers[0]\n",
    "j=1\n",
    "while j<=3:\n",
    "    if max < numbers[j]:\n",
    "        max = numbers[j]\n",
    "    j+=1\n",
    "print(\"this is large num: \", max)\n",
    "#num is palindrom or not\n",
    "\n"
   ]
  },
  {
   "cell_type": "code",
   "execution_count": null,
   "id": "2a0a45e2",
   "metadata": {},
   "outputs": [],
   "source": [
    "# break statement\n",
    "i=1 \n",
    "while i <= 5:\n",
    "    print(i)\n",
    "    if (i == 3):\n",
    "        break\n",
    "    i+=1\n",
    "print(\"end the loop\")"
   ]
  },
  {
   "cell_type": "code",
   "execution_count": 3,
   "id": "5fadb09a",
   "metadata": {},
   "outputs": [
    {
     "name": "stdout",
     "output_type": "stream",
     "text": [
      "end the loop\n"
     ]
    }
   ],
   "source": [
    "#contenue statment\n",
    "i=1\n",
    "while i <= 5:\n",
    "    if (i == 3):\n",
    "        continue\n",
    "    else:\n",
    "        print(i)\n",
    "    i+=1\n",
    "print(\"end the loop\")\n",
    "    "
   ]
  },
  {
   "cell_type": "code",
   "execution_count": null,
   "id": "8826162f",
   "metadata": {},
   "outputs": [],
   "source": []
  }
 ],
 "metadata": {
  "kernelspec": {
   "display_name": "Python 3 (ipykernel)",
   "language": "python",
   "name": "python3"
  },
  "language_info": {
   "codemirror_mode": {
    "name": "ipython",
    "version": 3
   },
   "file_extension": ".py",
   "mimetype": "text/x-python",
   "name": "python",
   "nbconvert_exporter": "python",
   "pygments_lexer": "ipython3",
   "version": "3.9.13"
  }
 },
 "nbformat": 4,
 "nbformat_minor": 5
}
